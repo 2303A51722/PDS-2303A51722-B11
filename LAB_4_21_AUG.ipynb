{
  "nbformat": 4,
  "nbformat_minor": 0,
  "metadata": {
    "colab": {
      "provenance": [],
      "authorship_tag": "ABX9TyN3zlMhBIIA1Ne6T9WZAfV+",
      "include_colab_link": true
    },
    "kernelspec": {
      "name": "python3",
      "display_name": "Python 3"
    },
    "language_info": {
      "name": "python"
    }
  },
  "cells": [
    {
      "cell_type": "markdown",
      "metadata": {
        "id": "view-in-github",
        "colab_type": "text"
      },
      "source": [
        "<a href=\"https://colab.research.google.com/github/2303A51722/PDS-2303A51722-B11/blob/main/LAB_4_21_AUG.ipynb\" target=\"_parent\"><img src=\"https://colab.research.google.com/assets/colab-badge.svg\" alt=\"Open In Colab\"/></a>"
      ]
    },
    {
      "cell_type": "code",
      "source": [
        "\n",
        "import pandas as pd\n",
        "df = pd.read_csv('student_scores.csv')\n",
        "print(\"Original DataFrame:\")\n",
        "print(df)\n",
        "numeric_cols = df.select_dtypes(include=['number'])\n",
        "df.fillna(numeric_cols.mean(), inplace=True)\n",
        "print(\"\\nDataFrame after filling missing values:\")\n",
        "print(df)\n",
        "high_achievers = df[(df['Math'] > 75) & (df['Science'] > 75) & (df['English'] > 75)]\n",
        "print(\"\\nHigh Achievers (scores > 75 in all subjects):\")\n",
        "print(high_achievers)"
      ],
      "metadata": {
        "colab": {
          "base_uri": "https://localhost:8080/"
        },
        "id": "NAA7QQJGknEj",
        "outputId": "05e81cd2-3fde-4dfc-92b5-1e34cea06e6e"
      },
      "execution_count": 4,
      "outputs": [
        {
          "output_type": "stream",
          "name": "stdout",
          "text": [
            "Original DataFrame:\n",
            "   Student  Math  Science  English\n",
            "0    Alice  85.0     92.0     88.0\n",
            "1      Bob  70.0     78.0      NaN\n",
            "2  Charlie  90.0      NaN     95.0\n",
            "3    David  65.0     70.0     72.0\n",
            "4      Eve  78.0     85.0     80.0\n",
            "5    Frank   NaN     68.0     75.0\n",
            "\n",
            "DataFrame after filling missing values:\n",
            "   Student  Math  Science  English\n",
            "0    Alice  85.0     92.0     88.0\n",
            "1      Bob  70.0     78.0     82.0\n",
            "2  Charlie  90.0     78.6     95.0\n",
            "3    David  65.0     70.0     72.0\n",
            "4      Eve  78.0     85.0     80.0\n",
            "5    Frank  77.6     68.0     75.0\n",
            "\n",
            "High Achievers (scores > 75 in all subjects):\n",
            "   Student  Math  Science  English\n",
            "0    Alice  85.0     92.0     88.0\n",
            "2  Charlie  90.0     78.6     95.0\n",
            "4      Eve  78.0     85.0     80.0\n"
          ]
        }
      ]
    },
    {
      "cell_type": "code",
      "metadata": {
        "id": "33bb8473"
      },
      "source": [
        "# Create a dummy student_scores.csv file for demonstration purposes\n",
        "data = {'Student': ['Alice', 'Bob', 'Charlie', 'David', 'Eve', 'Frank'],\n",
        "        'Math': [85, 70, 90, 65, 78, None],\n",
        "        'Science': [92, 78, None, 70, 85, 68],\n",
        "        'English': [88, None, 95, 72, 80, 75]}\n",
        "df_dummy = pd.DataFrame(data)\n",
        "df_dummy.to_csv('student_scores.csv', index=False)"
      ],
      "execution_count": 3,
      "outputs": []
    }
  ]
}